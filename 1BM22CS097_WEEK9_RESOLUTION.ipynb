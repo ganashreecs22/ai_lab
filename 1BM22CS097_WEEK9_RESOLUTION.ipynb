{
  "nbformat": 4,
  "nbformat_minor": 0,
  "metadata": {
    "colab": {
      "provenance": [],
      "authorship_tag": "ABX9TyMGjT+J82xtEV5QLwR7gpoq",
      "include_colab_link": true
    },
    "kernelspec": {
      "name": "python3",
      "display_name": "Python 3"
    },
    "language_info": {
      "name": "python"
    }
  },
  "cells": [
    {
      "cell_type": "markdown",
      "metadata": {
        "id": "view-in-github",
        "colab_type": "text"
      },
      "source": [
        "<a href=\"https://colab.research.google.com/github/ganashreecs22/ai_lab/blob/main/1BM22CS097_WEEK9_RESOLUTION.ipynb\" target=\"_parent\"><img src=\"https://colab.research.google.com/assets/colab-badge.svg\" alt=\"Open In Colab\"/></a>"
      ]
    },
    {
      "cell_type": "code",
      "source": [
        "\n",
        "from pyswip import Prolog\n",
        "\n",
        "# Initialize Prolog engine\n",
        "prolog = Prolog()\n",
        "\n",
        "# Knowledge base\n",
        "# a. If something is food, John likes it\n",
        "prolog.assertz(\"likes(john, X) :- food(X)\")\n",
        "\n",
        "# b. Apple and vegetables are food\n",
        "prolog.assertz(\"food(apple)\")\n",
        "prolog.assertz(\"food(vegetables)\")\n",
        "\n",
        "# c. Anything someone eats and is not killed is food\n",
        "prolog.assertz(\"food(Z) :- eats(Y, Z), not_killed(Y)\")\n",
        "\n",
        "# d. Anil eats peanuts\n",
        "prolog.assertz(\"eats(anil, peanuts)\")\n",
        "\n",
        "# e. Anil is alive\n",
        "prolog.assertz(\"alive(anil)\")\n",
        "\n",
        "# f. If someone is alive, they are not killed\n",
        "prolog.assertz(\"not_killed(X) :- alive(X)\")\n",
        "\n",
        "# Query to prove: John likes peanuts\n",
        "query = \"likes(john, peanuts)\"\n",
        "\n",
        "# Check if the query can be proven\n",
        "result = list(prolog.query(query))\n",
        "\n",
        "# Output the result\n",
        "if result:\n",
        "    print(\"Proven: John likes peanuts.\")\n",
        "else:\n",
        "    print(\"Cannot prove that John likes peanuts.\")\n"
      ],
      "metadata": {
        "colab": {
          "base_uri": "https://localhost:8080/"
        },
        "id": "6onh2s7-AHu3",
        "outputId": "32a7f516-97e3-4bac-abd8-8a0e53c185f5"
      },
      "execution_count": 1,
      "outputs": [
        {
          "output_type": "stream",
          "name": "stdout",
          "text": [
            "Proven: John likes peanuts.\n"
          ]
        }
      ]
    }
  ]
}