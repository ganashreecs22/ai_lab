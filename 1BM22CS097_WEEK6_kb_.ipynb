{
  "nbformat": 4,
  "nbformat_minor": 0,
  "metadata": {
    "colab": {
      "provenance": [],
      "authorship_tag": "ABX9TyM04Bt9yYkqyRS9FytSIVBj",
      "include_colab_link": true
    },
    "kernelspec": {
      "name": "python3",
      "display_name": "Python 3"
    },
    "language_info": {
      "name": "python"
    }
  },
  "cells": [
    {
      "cell_type": "markdown",
      "metadata": {
        "id": "view-in-github",
        "colab_type": "text"
      },
      "source": [
        "<a href=\"https://colab.research.google.com/github/ganashreecs22/ai_lab/blob/main/1BM22CS097_WEEK5_kb_.ipynb\" target=\"_parent\"><img src=\"https://colab.research.google.com/assets/colab-badge.svg\" alt=\"Open In Colab\"/></a>"
      ]
    },
    {
      "cell_type": "code",
      "execution_count": 2,
      "metadata": {
        "colab": {
          "base_uri": "https://localhost:8080/"
        },
        "id": "lMq36LjUC6nt",
        "outputId": "3b3cbc13-b1ad-4603-8491-420d56f9a0c3"
      },
      "outputs": [
        {
          "output_type": "stream",
          "name": "stdout",
          "text": [
            "Enter rule: p^qvr\n",
            "Enter the Query: q\n",
            "********** Truth Table Reference **********\n",
            "kb alpha\n",
            "**********\n",
            "True True\n",
            "----------\n",
            "True True\n",
            "----------\n",
            "True False\n",
            "----------\n",
            "The Knowledge Base does not entail the query\n"
          ]
        }
      ],
      "source": [
        "combinations = [\n",
        "    (True, True, True), (True, True, False), (True, False, True), (True, False, False),\n",
        "    (False, True, True), (False, True, False), (False, False, True), (False, False, False)\n",
        "]\n",
        "variable = {'p': 0, 'q': 1, 'r': 2}\n",
        "kb = ''\n",
        "q = ''\n",
        "priority = {'~': 3, 'v': 1, '^': 2}\n",
        "\n",
        "def input_rules():\n",
        "    global kb, q\n",
        "    kb = input(\"Enter rule: \")\n",
        "    q = input(\"Enter the Query: \")\n",
        "\n",
        "def entailment():\n",
        "    global kb, q\n",
        "    print('*' * 10 + \" Truth Table Reference \" + '*' * 10)\n",
        "    print('kb', 'alpha')\n",
        "    print('*' * 10)\n",
        "    for comb in combinations:\n",
        "        s = evaluatePostfix(toPostfix(kb), comb)\n",
        "        f = evaluatePostfix(toPostfix(q), comb)\n",
        "        print(s, f)\n",
        "        print('-' * 10)\n",
        "        if s and not f:\n",
        "            return False\n",
        "    return True\n",
        "\n",
        "def isOperand(c):\n",
        "    return c.isalpha() and c != 'v'\n",
        "\n",
        "def isLeftParanthesis(c):\n",
        "    return c == '('\n",
        "\n",
        "def isRightParanthesis(c):\n",
        "    return c == ')'\n",
        "\n",
        "def isEmpty(stack):\n",
        "    return len(stack) == 0\n",
        "\n",
        "def peek(stack):\n",
        "    return stack[-1]\n",
        "\n",
        "def hasLessOrEqualPriority(c1, c2):\n",
        "    try:\n",
        "        return priority[c1] <= priority[c2]\n",
        "    except KeyError:\n",
        "        return False\n",
        "\n",
        "def toPostfix(infix):\n",
        "    stack = []\n",
        "    postfix = ''\n",
        "    for c in infix:\n",
        "        if isOperand(c):\n",
        "            postfix += c\n",
        "        else:\n",
        "            if isLeftParanthesis(c):\n",
        "                stack.append(c)\n",
        "            elif isRightParanthesis(c):\n",
        "                operator = stack.pop()\n",
        "                while not isLeftParanthesis(operator):\n",
        "                    postfix += operator\n",
        "                    operator = stack.pop()\n",
        "            else:\n",
        "                while (not isEmpty(stack)) and hasLessOrEqualPriority(c, peek(stack)):\n",
        "                    postfix += stack.pop()\n",
        "                stack.append(c)\n",
        "    while not isEmpty(stack):\n",
        "        postfix += stack.pop()\n",
        "    return postfix\n",
        "\n",
        "def evaluatePostfix(exp, comb):\n",
        "    stack = []\n",
        "    for i in exp:\n",
        "        if isOperand(i):\n",
        "            stack.append(comb[variable[i]])\n",
        "        elif i == '~':\n",
        "            val1 = stack.pop()\n",
        "            stack.append(not val1)\n",
        "        else:\n",
        "            val1 = stack.pop()\n",
        "            val2 = stack.pop()\n",
        "            stack.append(_eval(i, val2, val1))\n",
        "    return stack.pop()\n",
        "\n",
        "def _eval(i, val1, val2):\n",
        "    if i == '^':\n",
        "        return val2 and val1\n",
        "    return val2 or val1\n",
        "\n",
        "input_rules()\n",
        "ans = entailment()\n",
        "if ans:\n",
        "    print(\"The Knowledge Base entails the query\")\n",
        "else:\n",
        "    print(\"The Knowledge Base does not entail the query\")\n"
      ]
    }
  ]
}
