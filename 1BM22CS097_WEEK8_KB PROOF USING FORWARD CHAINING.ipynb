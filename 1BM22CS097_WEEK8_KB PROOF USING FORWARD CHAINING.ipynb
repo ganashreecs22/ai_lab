{
  "nbformat": 4,
  "nbformat_minor": 0,
  "metadata": {
    "colab": {
      "provenance": [],
      "authorship_tag": "ABX9TyNZOHXNi+vqAFE3P3Qay3kh",
      "include_colab_link": true
    },
    "kernelspec": {
      "name": "python3",
      "display_name": "Python 3"
    },
    "language_info": {
      "name": "python"
    }
  },
  "cells": [
    {
      "cell_type": "markdown",
      "metadata": {
        "id": "view-in-github",
        "colab_type": "text"
      },
      "source": [
        "<a href=\"https://colab.research.google.com/github/ganashreecs22/ai_lab/blob/main/1BM22CS097_WEEK8_KB%20PROOF%20USING%20FORWARD%20CHAINING.ipynb\" target=\"_parent\"><img src=\"https://colab.research.google.com/assets/colab-badge.svg\" alt=\"Open In Colab\"/></a>"
      ]
    },
    {
      "cell_type": "code",
      "execution_count": 4,
      "metadata": {
        "colab": {
          "base_uri": "https://localhost:8080/"
        },
        "id": "Sv1IGoqw-NGy",
        "outputId": "df7dfd53-3bd9-47b8-a3ed-7d21f0d113b4"
      },
      "outputs": [
        {
          "output_type": "stream",
          "name": "stdout",
          "text": [
            "Is 'Criminal(Robert)' true? Yes\n"
          ]
        }
      ],
      "source": [
        "class KnowledgeBase:\n",
        "    def __init__(self):\n",
        "        self.facts = set()  # Set to store known facts\n",
        "        self.rules = []  # List to store inference rules\n",
        "\n",
        "    def add_fact(self, fact):\n",
        "        \"\"\"Add a single fact to the knowledge base.\"\"\"\n",
        "        self.facts.add(fact)\n",
        "\n",
        "    def add_rule(self, rule):\n",
        "        \"\"\"Add a rule (function) to the knowledge base.\"\"\"\n",
        "        self.rules.append(rule)\n",
        "\n",
        "    def forward_reason(self):\n",
        "        \"\"\"Perform forward reasoning to derive new facts.\"\"\"\n",
        "        new_facts = set()\n",
        "        while True:\n",
        "            for rule in self.rules:\n",
        "                inferred = rule(self.facts)\n",
        "                # Add only new facts that aren't already in the knowledge base\n",
        "                new_facts.update(inferred - self.facts)\n",
        "            if not new_facts:\n",
        "                break\n",
        "            self.facts.update(new_facts)\n",
        "            new_facts.clear()\n",
        "\n",
        "    def query(self, fact):\n",
        "        \"\"\"Check if a fact exists in the knowledge base.\"\"\"\n",
        "        return fact in self.facts\n",
        "\n",
        "\n",
        "# Define rules\n",
        "def rule_american_criminal(facts):\n",
        "    \"\"\"If an American sells weapons to hostile nations, they are a criminal.\"\"\"\n",
        "    inferred = set()\n",
        "    for fact in facts:\n",
        "        if fact.startswith(\"Sells(\"):  # Find sells facts\n",
        "            parts = fact[6:-1].split(\", \")  # Extract parts: Sells(person, weapon, country)\n",
        "            person, weapon, country = parts[0], parts[1], parts[2]\n",
        "            if f\"American({person})\" in facts and f\"Weapon({weapon})\" in facts and f\"Hostile({country})\" in facts:\n",
        "                inferred.add(f\"Criminal({person})\")\n",
        "    return inferred\n",
        "\n",
        "\n",
        "def rule_hostile_enemy(facts):\n",
        "    \"\"\"Enemies of America are hostile.\"\"\"\n",
        "    inferred = set()\n",
        "    for fact in facts:\n",
        "        if fact.startswith(\"Enemy(\"):\n",
        "            parts = fact[6:-1].split(\", \")  # Extract parts: Enemy(country, America)\n",
        "            country = parts[0]\n",
        "            inferred.add(f\"Hostile({country})\")\n",
        "    return inferred\n",
        "\n",
        "\n",
        "def rule_weapons_from_missiles(facts):\n",
        "    \"\"\"Missiles are weapons.\"\"\"\n",
        "    inferred = set()\n",
        "    for fact in facts:\n",
        "        if fact.startswith(\"Missile(\"):\n",
        "            missile = fact[8:-1]  # Extract missile name\n",
        "            inferred.add(f\"Weapon({missile})\")\n",
        "    return inferred\n",
        "\n",
        "\n",
        "def rule_sells_missiles(facts):\n",
        "    \"\"\"If Country A owns missiles, Robert sold them.\"\"\"\n",
        "    inferred = set()\n",
        "    for fact in facts:\n",
        "        if fact.startswith(\"Owns(\"):\n",
        "            parts = fact[5:-1].split(\", \")  # Extract parts: Owns(country, item)\n",
        "            country, item = parts[0], parts[1]\n",
        "            if f\"Missile({item})\" in facts:\n",
        "                inferred.add(f\"Sells(Robert, {item}, {country})\")\n",
        "    return inferred\n",
        "\n",
        "\n",
        "# Initialize the knowledge base\n",
        "kb = KnowledgeBase()\n",
        "\n",
        "# Add facts\n",
        "kb.add_fact(\"American(Robert)\")\n",
        "kb.add_fact(\"Enemy(A, America)\")\n",
        "kb.add_fact(\"Owns(A, T1)\")\n",
        "kb.add_fact(\"Missile(T1)\")\n",
        "\n",
        "# Add rules\n",
        "kb.add_rule(rule_american_criminal)\n",
        "kb.add_rule(rule_hostile_enemy)\n",
        "kb.add_rule(rule_weapons_from_missiles)\n",
        "kb.add_rule(rule_sells_missiles)\n",
        "\n",
        "# Perform forward reasoning\n",
        "kb.forward_reason()\n",
        "\n",
        "# Query the knowledge base\n",
        "query = \"Criminal(Robert)\"\n",
        "print(f\"Is '{query}' true? {'Yes' if kb.query(query) else 'No'}\")\n"
      ]
    }
  ]
}